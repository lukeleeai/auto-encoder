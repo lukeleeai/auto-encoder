{
 "cells": [
  {
   "cell_type": "code",
   "execution_count": 1,
   "metadata": {
    "scrolled": true
   },
   "outputs": [
    {
     "name": "stderr",
     "output_type": "stream",
     "text": [
      "/Users/shatapy/anaconda/lib/python3.5/importlib/_bootstrap.py:222: RuntimeWarning: compiletime version 3.6 of module 'tensorflow.python.framework.fast_tensor_util' does not match runtime version 3.5\n",
      "  return f(*args, **kwds)\n"
     ]
    }
   ],
   "source": [
    "import tensorflow as tf\n",
    "import numpy as np\n",
    "import matplotlib\n",
    "matplotlib.use('TkAgg')\n",
    "import matplotlib.pyplot as plt\n",
    "%matplotlib inline\n",
    "\n",
    "slim = tf.contrib.slim"
   ]
  },
  {
   "cell_type": "code",
   "execution_count": 2,
   "metadata": {
    "collapsed": true
   },
   "outputs": [],
   "source": [
    "(x_train, y_train), (x_test, y_test) = tf.keras.datasets.mnist.load_data()\n",
    "\n",
    "x_train = x_train / 255.\n",
    "x_train = np.asarray(x_train, np.float32)\n",
    "x_train = np.reshape(x_train, [-1, 784])\n",
    "\n",
    "x_test = x_test / 255.\n",
    "x_test = np.asarray(x_test, np.float32)\n",
    "x_test = np.reshape(x_test, [-1, 784])"
   ]
  },
  {
   "cell_type": "code",
   "execution_count": 4,
   "metadata": {
    "collapsed": true
   },
   "outputs": [],
   "source": [
    "batch_size = 64\n",
    "\n",
    "tr_dataset = tf.data.Dataset.from_tensor_slices((x_train, y_train))\n",
    "tr_dataset = tr_dataset.shuffle(10000)\n",
    "tr_dataset = tr_dataset.batch(batch_size)\n",
    "\n",
    "test_dataset = tf.data.Dataset.from_tensor_slices((x_train, y_train))\n",
    "test_dataset = test_dataset.shuffle(10000)\n",
    "test_dataset = test_dataset.batch(batch_size)"
   ]
  },
  {
   "cell_type": "code",
   "execution_count": 5,
   "metadata": {
    "collapsed": true
   },
   "outputs": [],
   "source": [
    "is_training = tf.placeholder(tf.bool)\n",
    "handle = tf.placeholder(tf.string)\n",
    "iterator = tf.data.Iterator.from_string_handle(handle,\n",
    "                           tr_dataset.output_types,\n",
    "                           tr_dataset.output_shapes)\n",
    "\n",
    "x, y = iterator.get_next()"
   ]
  },
  {
   "cell_type": "code",
   "execution_count": 6,
   "metadata": {
    "collapsed": true
   },
   "outputs": [],
   "source": [
    "n_en_h1, n_en_h2, n_en_h3 = 128, 64, 16\n",
    "n_code = 2\n",
    "n_de_h1, n_de_h2, n_de_h3 = 16, 64, 128"
   ]
  },
  {
   "cell_type": "code",
   "execution_count": 7,
   "metadata": {
    "collapsed": true
   },
   "outputs": [],
   "source": [
    "def layer(x, weight_shape, bias_shape):\n",
    "    W = tf.get_variable('W', weight_shape, initializer=tf.contrib.layers.xavier_initializer())\n",
    "    b = tf.get_variable('b', bias_shape, initializer=tf.zeros_initializer())\n",
    "    logit = tf.matmul(x, W) + b\n",
    "    logit = slim.batch_norm(logit, activation_fn=tf.nn.relu, is_training=is_training)\n",
    "    return logit"
   ]
  },
  {
   "cell_type": "code",
   "execution_count": 8,
   "metadata": {
    "collapsed": true
   },
   "outputs": [],
   "source": [
    "def encoder(x):\n",
    "    with tf.variable_scope('encoder'):\n",
    "        with tf.variable_scope('hidden1'):\n",
    "            h1 = layer(x, [x.shape[-1], n_en_h1], [n_en_h1])\n",
    "        with tf.variable_scope('hidden2'):\n",
    "            h2 = layer(h1, [n_en_h1, n_en_h2], [n_en_h2])\n",
    "        with tf.variable_scope('hidden3'):\n",
    "            h3 = layer(h2, [n_en_h2, n_en_h3], [n_en_h3])\n",
    "        with tf.variable_scope('output'):\n",
    "            output = layer(h3, [n_en_h3, n_code], [n_code])\n",
    "    \n",
    "    return output"
   ]
  },
  {
   "cell_type": "code",
   "execution_count": 9,
   "metadata": {
    "collapsed": true
   },
   "outputs": [],
   "source": [
    "def decoder(x):\n",
    "    with tf.variable_scope('decoder'):\n",
    "        with tf.variable_scope('hidden1'):\n",
    "            h1 = layer(x, [n_code, n_de_h1], [n_de_h1])\n",
    "        with tf.variable_scope('hidden2'):\n",
    "            h2 = layer(h1, [n_de_h1, n_de_h2], [n_de_h2])\n",
    "        with tf.variable_scope('hidden3'):\n",
    "            h3 = layer(h2, [n_de_h2, n_de_h3], [n_de_h3])\n",
    "        with tf.variable_scope('output'):\n",
    "            output = layer(h3, [n_de_h3, 784], [784])\n",
    "    \n",
    "    return output"
   ]
  },
  {
   "cell_type": "code",
   "execution_count": 10,
   "metadata": {
    "collapsed": true
   },
   "outputs": [],
   "source": [
    "encoder = encoder(x)\n",
    "output = decoder(encoder)"
   ]
  },
  {
   "cell_type": "code",
   "execution_count": 11,
   "metadata": {
    "collapsed": true
   },
   "outputs": [],
   "source": [
    "loss = tf.losses.mean_squared_error(labels=x, predictions=output)\n",
    "\n",
    "update_ops = tf.get_collection(tf.GraphKeys.UPDATE_OPS)\n",
    "with tf.control_dependencies(update_ops):\n",
    "    train_op = tf.train.AdamOptimizer(0.002, beta1=0.9, beta2=0.999, epsilon=1e-8).minimize(loss)"
   ]
  },
  {
   "cell_type": "code",
   "execution_count": 12,
   "metadata": {},
   "outputs": [
    {
     "name": "stdout",
     "output_type": "stream",
     "text": [
      "Saving graph to: checkpoints\n"
     ]
    }
   ],
   "source": [
    "graph_dir = 'checkpoints'\n",
    "print('Saving graph to: %s' % graph_dir)\n",
    "train_writer = tf.summary.FileWriter(graph_dir)\n",
    "train_writer.add_graph(tf.get_default_graph())"
   ]
  },
  {
   "cell_type": "code",
   "execution_count": 13,
   "metadata": {
    "collapsed": true
   },
   "outputs": [],
   "source": [
    "with tf.name_scope('summaries'):\n",
    "    tf.summary.scalar('loss/mse', loss)\n",
    "    summary_op = tf.summary.merge_all()"
   ]
  },
  {
   "cell_type": "code",
   "execution_count": 14,
   "metadata": {
    "collapsed": true
   },
   "outputs": [],
   "source": [
    "saver = tf.train.Saver()"
   ]
  },
  {
   "cell_type": "code",
   "execution_count": 17,
   "metadata": {
    "collapsed": true
   },
   "outputs": [
    {
     "name": "stdout",
     "output_type": "stream",
     "text": [
      "Epoch:  0\n",
      "Step: 0, loss: 0.525895893573761\n",
      "Saving the model\n",
      "Step: 100, loss: 0.07021825015544891\n",
      "Step: 200, loss: 0.06675320863723755\n",
      "Step: 300, loss: 0.07302774488925934\n",
      "Step: 400, loss: 0.05762143060564995\n",
      "Step: 500, loss: 0.06593289971351624\n",
      "Step: 600, loss: 0.07673569023609161\n",
      "Step: 700, loss: 0.057083792984485626\n",
      "Step: 800, loss: 0.05283091962337494\n",
      "Step: 900, loss: 0.05594160780310631\n",
      "end of dataset\n",
      "Epoch:  1\n",
      "Step: 1000, loss: 0.05062258988618851\n",
      "Saving the model\n",
      "Step: 1100, loss: 0.05126475915312767\n",
      "Step: 1200, loss: 0.051621098071336746\n",
      "Step: 1300, loss: 0.04961712658405304\n",
      "Step: 1400, loss: 0.049549929797649384\n",
      "Step: 1500, loss: 0.05140145868062973\n",
      "Step: 1600, loss: 0.046589646488428116\n",
      "Step: 1700, loss: 0.04405643418431282\n",
      "Step: 1800, loss: 0.046121157705783844\n",
      "end of dataset\n",
      "Epoch:  2\n",
      "Step: 1900, loss: 0.04959026724100113\n",
      "Step: 2000, loss: 0.04842033237218857\n",
      "Saving the model\n",
      "Step: 2100, loss: 0.04870739206671715\n",
      "Step: 2200, loss: 0.04993531480431557\n",
      "Step: 2300, loss: 0.048770155757665634\n",
      "Step: 2400, loss: 0.04868244752287865\n",
      "Step: 2500, loss: 0.048246294260025024\n",
      "Step: 2600, loss: 0.048247285187244415\n",
      "Step: 2700, loss: 0.04653053358197212\n",
      "end of dataset\n",
      "Epoch:  3\n",
      "Step: 2800, loss: 0.04896986857056618\n",
      "Step: 2900, loss: 0.04766402766108513\n",
      "Step: 3000, loss: 0.04468264430761337\n",
      "Saving the model\n",
      "Step: 3100, loss: 0.04906570538878441\n",
      "Step: 3200, loss: 0.04940936341881752\n",
      "Step: 3300, loss: 0.04462818056344986\n",
      "Step: 3400, loss: 0.0457720011472702\n",
      "Step: 3500, loss: 0.042895980179309845\n",
      "Step: 3600, loss: 0.041428450495004654\n",
      "Step: 3700, loss: 0.04093629866838455\n",
      "end of dataset\n",
      "Epoch:  4\n",
      "Step: 3800, loss: 0.0411563515663147\n",
      "Step: 3900, loss: 0.04698091000318527\n",
      "Step: 4000, loss: 0.04518566653132439\n",
      "Saving the model\n",
      "Step: 4100, loss: 0.04758573696017265\n",
      "Step: 4200, loss: 0.04801420867443085\n",
      "Step: 4300, loss: 0.04130919650197029\n",
      "Step: 4400, loss: 0.045889709144830704\n",
      "Step: 4500, loss: 0.04359525442123413\n",
      "Step: 4600, loss: 0.04921219125390053\n",
      "end of dataset\n",
      "Epoch:  5\n",
      "Step: 4700, loss: 0.046123456209897995\n",
      "Step: 4800, loss: 0.039597656577825546\n",
      "Step: 4900, loss: 0.04586721584200859\n",
      "Step: 5000, loss: 0.042075224220752716\n",
      "Saving the model\n",
      "Step: 5100, loss: 0.04255407676100731\n",
      "Step: 5200, loss: 0.04823337122797966\n",
      "Step: 5300, loss: 0.04606921970844269\n",
      "Step: 5400, loss: 0.04496477171778679\n",
      "Step: 5500, loss: 0.040832921862602234\n",
      "end of dataset\n",
      "Epoch:  6\n",
      "Step: 5600, loss: 0.04396538808941841\n",
      "Step: 5700, loss: 0.043910104781389236\n",
      "Step: 5800, loss: 0.04085584729909897\n",
      "Step: 5900, loss: 0.042388927191495895\n",
      "Step: 6000, loss: 0.043876077979803085\n",
      "Saving the model\n",
      "Step: 6100, loss: 0.040552929043769836\n",
      "Step: 6200, loss: 0.042786888778209686\n",
      "Step: 6300, loss: 0.04477022960782051\n",
      "Step: 6400, loss: 0.04270264506340027\n",
      "Step: 6500, loss: 0.05631616339087486\n",
      "end of dataset\n",
      "Epoch:  7\n",
      "Step: 6500, loss: 0.0399894043803215\n",
      "Step: 6600, loss: 0.04613739624619484\n",
      "Step: 6700, loss: 0.04050251841545105\n",
      "Step: 6800, loss: 0.04424840584397316\n",
      "Step: 6900, loss: 0.04395751655101776\n",
      "Step: 7000, loss: 0.04711596667766571\n",
      "Saving the model\n",
      "Step: 7100, loss: 0.04148419573903084\n",
      "Step: 7200, loss: 0.035655129700899124\n",
      "Step: 7300, loss: 0.040995627641677856\n",
      "Step: 7400, loss: 0.046176034957170486\n",
      "end of dataset\n",
      "Epoch:  8\n",
      "Step: 7500, loss: 0.04217960312962532\n",
      "Step: 7600, loss: 0.04121650010347366\n",
      "Step: 7700, loss: 0.046673327684402466\n",
      "Step: 7800, loss: 0.040420617908239365\n",
      "Step: 7900, loss: 0.040748149156570435\n",
      "Step: 8000, loss: 0.04644032567739487\n",
      "Saving the model\n",
      "Step: 8100, loss: 0.04249441251158714\n",
      "Step: 8200, loss: 0.03897906467318535\n",
      "Step: 8300, loss: 0.04469478502869606\n",
      "end of dataset\n",
      "Epoch:  9\n",
      "Step: 8400, loss: 0.03903981298208237\n",
      "Step: 8500, loss: 0.04441448301076889\n",
      "Step: 8600, loss: 0.044421542435884476\n",
      "Step: 8700, loss: 0.0453159362077713\n",
      "Step: 8800, loss: 0.04138479009270668\n",
      "Step: 8900, loss: 0.040322672575712204\n",
      "Step: 9000, loss: 0.043176718056201935\n",
      "Saving the model\n",
      "Step: 9100, loss: 0.04276428371667862\n",
      "Step: 9200, loss: 0.038821741938591\n",
      "end of dataset\n",
      "Epoch:  10\n",
      "Step: 9300, loss: 0.04036736860871315\n",
      "Step: 9400, loss: 0.039005450904369354\n",
      "Step: 9500, loss: 0.04288722574710846\n",
      "Step: 9600, loss: 0.040203094482421875\n",
      "Step: 9700, loss: 0.03949613496661186\n",
      "Step: 9800, loss: 0.041719790548086166\n",
      "Step: 9900, loss: 0.04105713963508606\n",
      "Step: 10000, loss: 0.04086318612098694\n",
      "Saving the model\n",
      "Step: 10100, loss: 0.04028237238526344\n",
      "Step: 10200, loss: 0.03810926154255867\n",
      "end of dataset\n",
      "Epoch:  11\n",
      "Step: 10300, loss: 0.0432690791785717\n",
      "Step: 10400, loss: 0.03868185356259346\n",
      "Step: 10500, loss: 0.044850774109363556\n",
      "Step: 10600, loss: 0.041297659277915955\n",
      "Step: 10700, loss: 0.04378274083137512\n",
      "Step: 10800, loss: 0.04026360064744949\n",
      "Step: 10900, loss: 0.035800643265247345\n",
      "Step: 11000, loss: 0.039033442735672\n",
      "Saving the model\n",
      "Step: 11100, loss: 0.03974444419145584\n",
      "end of dataset\n",
      "Epoch:  12\n",
      "Step: 11200, loss: 0.03934505209326744\n",
      "Step: 11300, loss: 0.04272609204053879\n",
      "Step: 11400, loss: 0.04601084813475609\n",
      "Step: 11500, loss: 0.04170197993516922\n",
      "Step: 11600, loss: 0.04095418006181717\n",
      "Step: 11700, loss: 0.03964770957827568\n",
      "Step: 11800, loss: 0.04133902117609978\n",
      "Step: 11900, loss: 0.04191334918141365\n",
      "Step: 12000, loss: 0.036618370562791824\n",
      "Saving the model\n",
      "end of dataset\n",
      "Epoch:  13\n",
      "Step: 12100, loss: 0.039551783353090286\n",
      "Step: 12200, loss: 0.03776053711771965\n",
      "Step: 12300, loss: 0.04148586466908455\n",
      "Step: 12400, loss: 0.0377252921462059\n",
      "Step: 12500, loss: 0.03428683802485466\n",
      "Step: 12600, loss: 0.03998078778386116\n",
      "Step: 12700, loss: 0.03818764165043831\n",
      "Step: 12800, loss: 0.03934643417596817\n",
      "Step: 12900, loss: 0.03916625678539276\n",
      "Step: 13000, loss: 0.04430035501718521\n",
      "end of dataset\n",
      "Epoch:  14\n",
      "Step: 13000, loss: 0.04615410044789314\n",
      "Saving the model\n",
      "Step: 13100, loss: 0.048527367413043976\n",
      "Step: 13200, loss: 0.04139859974384308\n",
      "Step: 13300, loss: 0.04079073294997215\n",
      "Step: 13400, loss: 0.04606794938445091\n",
      "Step: 13500, loss: 0.041038546711206436\n",
      "Step: 13600, loss: 0.039285801351070404\n",
      "Step: 13700, loss: 0.03917167708277702\n",
      "Step: 13800, loss: 0.04193580895662308\n",
      "Step: 13900, loss: 0.04402877390384674\n",
      "end of dataset\n",
      "Epoch:  15\n",
      "Step: 14000, loss: 0.041340965777635574\n",
      "Saving the model\n",
      "Step: 14100, loss: 0.03831367939710617\n",
      "Step: 14200, loss: 0.040042225271463394\n",
      "Step: 14300, loss: 0.03902513161301613\n",
      "Step: 14400, loss: 0.043516647070646286\n",
      "Step: 14500, loss: 0.03508319705724716\n",
      "Step: 14600, loss: 0.03935035318136215\n",
      "Step: 14700, loss: 0.041635747998952866\n",
      "Step: 14800, loss: 0.040045853704214096\n",
      "end of dataset\n",
      "Epoch:  16\n",
      "Step: 14900, loss: 0.04187312349677086\n",
      "Step: 15000, loss: 0.039205364882946014\n",
      "Saving the model\n",
      "Step: 15100, loss: 0.04235774651169777\n",
      "Step: 15200, loss: 0.03969433531165123\n",
      "Step: 15300, loss: 0.036961909383535385\n",
      "Step: 15400, loss: 0.03984266519546509\n",
      "Step: 15500, loss: 0.036901574581861496\n",
      "Step: 15600, loss: 0.04099225997924805\n",
      "Step: 15700, loss: 0.04123229905962944\n",
      "end of dataset\n",
      "Epoch:  17\n",
      "Step: 15800, loss: 0.04321231320500374\n",
      "Step: 15900, loss: 0.035544246435165405\n",
      "Step: 16000, loss: 0.041915856301784515\n",
      "Saving the model\n",
      "Step: 16100, loss: 0.04239755868911743\n",
      "Step: 16200, loss: 0.039732757955789566\n",
      "Step: 16300, loss: 0.0376177653670311\n",
      "Step: 16400, loss: 0.04249243810772896\n",
      "Step: 16500, loss: 0.042370475828647614\n",
      "Step: 16600, loss: 0.039111457765102386\n",
      "Step: 16700, loss: 0.03669758141040802\n",
      "end of dataset\n",
      "Epoch:  18\n",
      "Step: 16800, loss: 0.042304184287786484\n",
      "Step: 16900, loss: 0.04008039832115173\n",
      "Step: 17000, loss: 0.042672693729400635\n",
      "Saving the model\n",
      "Step: 17100, loss: 0.04167693108320236\n",
      "Step: 17200, loss: 0.042740434408187866\n",
      "Step: 17300, loss: 0.034951262176036835\n",
      "Step: 17400, loss: 0.04279454052448273\n",
      "Step: 17500, loss: 0.03658754378557205\n",
      "Step: 17600, loss: 0.03894392400979996\n",
      "end of dataset\n",
      "Epoch:  19\n",
      "Step: 17700, loss: 0.04198687523603439\n",
      "Step: 17800, loss: 0.039298031479120255\n",
      "Step: 17900, loss: 0.04345623776316643\n",
      "Step: 18000, loss: 0.03598710894584656\n",
      "Saving the model\n",
      "Step: 18100, loss: 0.04298676177859306\n",
      "Step: 18200, loss: 0.04014941304922104\n",
      "Step: 18300, loss: 0.04718349874019623\n",
      "Step: 18400, loss: 0.039514001458883286\n",
      "Step: 18500, loss: 0.03694272041320801\n",
      "end of dataset\n",
      "Epoch:  20\n",
      "Step: 18600, loss: 0.0407862551510334\n",
      "Step: 18700, loss: 0.04152895510196686\n",
      "Step: 18800, loss: 0.037438809871673584\n"
     ]
    },
    {
     "name": "stdout",
     "output_type": "stream",
     "text": [
      "Step: 18900, loss: 0.04340542480349541\n",
      "Step: 19000, loss: 0.04119439050555229\n",
      "Saving the model\n",
      "Step: 19100, loss: 0.03786858171224594\n",
      "Step: 19200, loss: 0.0408967062830925\n",
      "Step: 19300, loss: 0.03515838086605072\n",
      "Step: 19400, loss: 0.04289507493376732\n",
      "Step: 19500, loss: 0.05775578320026398\n",
      "end of dataset\n",
      "Epoch:  21\n",
      "Step: 19500, loss: 0.04447886347770691\n",
      "Step: 19600, loss: 0.03950515016913414\n",
      "Step: 19700, loss: 0.03802867978811264\n",
      "Step: 19800, loss: 0.04166295751929283\n",
      "Step: 19900, loss: 0.03881978616118431\n",
      "Step: 20000, loss: 0.040186990052461624\n",
      "Saving the model\n",
      "Step: 20100, loss: 0.04210689291357994\n",
      "Step: 20200, loss: 0.039337415248155594\n",
      "Step: 20300, loss: 0.03868943825364113\n",
      "Step: 20400, loss: 0.038931652903556824\n",
      "end of dataset\n",
      "Epoch:  22\n",
      "Step: 20500, loss: 0.04191300645470619\n",
      "Step: 20600, loss: 0.04032803699374199\n",
      "Step: 20700, loss: 0.03927113488316536\n",
      "Step: 20800, loss: 0.03835906460881233\n",
      "Step: 20900, loss: 0.043910231441259384\n",
      "Step: 21000, loss: 0.04118766263127327\n",
      "Saving the model\n",
      "Step: 21100, loss: 0.03509344533085823\n",
      "Step: 21200, loss: 0.04496712237596512\n",
      "Step: 21300, loss: 0.036720145493745804\n",
      "end of dataset\n",
      "Epoch:  23\n",
      "Step: 21400, loss: 0.04127100482583046\n",
      "Step: 21500, loss: 0.034904442727565765\n",
      "Step: 21600, loss: 0.03892388567328453\n",
      "Step: 21700, loss: 0.03930676355957985\n",
      "Step: 21800, loss: 0.041376955807209015\n",
      "Step: 21900, loss: 0.0425538532435894\n",
      "Step: 22000, loss: 0.040351949632167816\n",
      "Saving the model\n",
      "Step: 22100, loss: 0.039052821695804596\n",
      "Step: 22200, loss: 0.04135976359248161\n",
      "end of dataset\n",
      "Epoch:  24\n",
      "Step: 22300, loss: 0.04390709847211838\n",
      "Step: 22400, loss: 0.03802963346242905\n",
      "Step: 22500, loss: 0.041612278670072556\n",
      "Step: 22600, loss: 0.04034976661205292\n",
      "Step: 22700, loss: 0.03805657476186752\n",
      "Step: 22800, loss: 0.03687308356165886\n",
      "Step: 22900, loss: 0.04038751497864723\n",
      "Step: 23000, loss: 0.03927211835980415\n",
      "Saving the model\n",
      "Step: 23100, loss: 0.037911128252744675\n",
      "Step: 23200, loss: 0.04237378016114235\n",
      "end of dataset\n",
      "TRAINING DONE!\n"
     ]
    }
   ],
   "source": [
    "sess = tf.Session()\n",
    "sess.run(tf.global_variables_initializer())\n",
    "\n",
    "train_iterator = tr_dataset.make_initializable_iterator()\n",
    "train_handle = sess.run(train_iterator.string_handle())\n",
    "\n",
    "n_epoch = 25\n",
    "step = 0\n",
    "\n",
    "for epoch in range(n_epoch):\n",
    "    sess.run(train_iterator.initializer)\n",
    "    \n",
    "    print('Epoch: ', epoch)\n",
    "    \n",
    "    while True:\n",
    "        try:\n",
    "            _, loss_ = sess.run([train_op, loss], \n",
    "                                feed_dict={handle: train_handle, is_training: True})\n",
    "            \n",
    "            if step % 100 == 0:\n",
    "                print('Step: {}, loss: {}'.format(step, loss_))\n",
    "                \n",
    "                summary_str = sess.run(summary_op, \n",
    "                                       feed_dict={handle: train_handle, is_training: False})\n",
    "                train_writer.add_summary(summary_str, global_step=step)\n",
    "                \n",
    "            step += 1\n",
    "                \n",
    "        except tf.errors.OutOfRangeError:\n",
    "            print('end of dataset')\n",
    "            break\n",
    "    \n",
    "    if epoch % 5 == 0:\n",
    "        print('Saving the model')\n",
    "        saver.save(sess, './checkpoints/model.ckpt', global_step=step)\n",
    "\n",
    "\n",
    "train_writer.close()\n",
    "print('TRAINING DONE!')"
   ]
  },
  {
   "cell_type": "code",
   "execution_count": 18,
   "metadata": {
    "collapsed": true
   },
   "outputs": [],
   "source": [
    "model_ckpt = tf.train.latest_checkpoint(graph_dir+'/model.ckpt')"
   ]
  },
  {
   "cell_type": "code",
   "execution_count": 19,
   "metadata": {
    "collapsed": true
   },
   "outputs": [],
   "source": [
    "test_iterator = test_dataset.make_initializable_iterator()\n",
    "test_handle = sess.run(test_iterator.string_handle())\n",
    "\n",
    "sess.run(test_iterator.initializer)"
   ]
  },
  {
   "cell_type": "code",
   "execution_count": 20,
   "metadata": {},
   "outputs": [
    {
     "data": {
      "image/png": "[encoded data removed]",
      "text/plain": [
       "<Figure size 1152x144 with 32 Axes>"
      ]
     },
     "metadata": {},
     "output_type": "display_data"
    }
   ],
   "source": [
    "sample_size = 16\n",
    "batch_idx = np.random.choice(len(x_test), sample_size, replace=False)\n",
    "batch_xs = x_test[batch_idx]\n",
    "y_pred = sess.run(output, feed_dict={x: batch_xs, is_training: False})\n",
    "\n",
    "fig, ax = plt.subplots(2, sample_size, figsize=(sample_size, 2))\n",
    "\n",
    "for i in range(sample_size):\n",
    "    ax[0][i].set_axis_off()\n",
    "    ax[1][i].set_axis_off()\n",
    "    ax[0][i].imshow(np.reshape(batch_xs[i], [28, 28]))\n",
    "    ax[1][i].imshow(np.reshape(y_pred[i], [28, 28]))\n"
   ]
  }
 ],
 "metadata": {
  "kernelspec": {
   "display_name": "Python 3",
   "language": "python",
   "name": "python3"
  },
  "language_info": {
   "codemirror_mode": {
    "name": "ipython",
    "version": 3
   },
   "file_extension": ".py",
   "mimetype": "text/x-python",
   "name": "python",
   "nbconvert_exporter": "python",
   "pygments_lexer": "ipython3",
   "version": "3.5.5"
  }
 },
 "nbformat": 4,
 "nbformat_minor": 2
}
